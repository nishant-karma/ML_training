{
 "cells": [
  {
   "cell_type": "code",
   "execution_count": 122,
   "id": "267e831d-13d2-419a-b690-92f5bd8b3dc4",
   "metadata": {},
   "outputs": [],
   "source": [
    "import pandas as pd\n",
    "import numpy as np\n",
    "import matplotlib.pyplot as plt\n",
    "import seaborn as sns\n"
   ]
  },
  {
   "cell_type": "code",
   "execution_count": 123,
   "id": "6699cba2-9773-4137-a992-fce4df684536",
   "metadata": {},
   "outputs": [],
   "source": [
    "train_data = pd.read_csv('banana_quality.csv')"
   ]
  },
  {
   "cell_type": "code",
   "execution_count": 124,
   "id": "142907fe-6f4d-4aac-b6f1-2a98dc7836af",
   "metadata": {},
   "outputs": [
    {
     "data": {
      "text/html": [
       "<div>\n",
       "<style scoped>\n",
       "    .dataframe tbody tr th:only-of-type {\n",
       "        vertical-align: middle;\n",
       "    }\n",
       "\n",
       "    .dataframe tbody tr th {\n",
       "        vertical-align: top;\n",
       "    }\n",
       "\n",
       "    .dataframe thead th {\n",
       "        text-align: right;\n",
       "    }\n",
       "</style>\n",
       "<table border=\"1\" class=\"dataframe\">\n",
       "  <thead>\n",
       "    <tr style=\"text-align: right;\">\n",
       "      <th></th>\n",
       "      <th>Size</th>\n",
       "      <th>Weight</th>\n",
       "      <th>Sweetness</th>\n",
       "      <th>Softness</th>\n",
       "      <th>HarvestTime</th>\n",
       "      <th>Ripeness</th>\n",
       "      <th>Acidity</th>\n",
       "      <th>Quality</th>\n",
       "    </tr>\n",
       "  </thead>\n",
       "  <tbody>\n",
       "    <tr>\n",
       "      <th>0</th>\n",
       "      <td>-1.924968</td>\n",
       "      <td>0.468078</td>\n",
       "      <td>3.077832</td>\n",
       "      <td>-1.472177</td>\n",
       "      <td>0.294799</td>\n",
       "      <td>2.435570</td>\n",
       "      <td>0.271290</td>\n",
       "      <td>Good</td>\n",
       "    </tr>\n",
       "    <tr>\n",
       "      <th>1</th>\n",
       "      <td>-2.409751</td>\n",
       "      <td>0.486870</td>\n",
       "      <td>0.346921</td>\n",
       "      <td>-2.495099</td>\n",
       "      <td>-0.892213</td>\n",
       "      <td>2.067549</td>\n",
       "      <td>0.307325</td>\n",
       "      <td>Good</td>\n",
       "    </tr>\n",
       "    <tr>\n",
       "      <th>2</th>\n",
       "      <td>-0.357607</td>\n",
       "      <td>1.483176</td>\n",
       "      <td>1.568452</td>\n",
       "      <td>-2.645145</td>\n",
       "      <td>-0.647267</td>\n",
       "      <td>3.090643</td>\n",
       "      <td>1.427322</td>\n",
       "      <td>Good</td>\n",
       "    </tr>\n",
       "    <tr>\n",
       "      <th>3</th>\n",
       "      <td>-0.868524</td>\n",
       "      <td>1.566201</td>\n",
       "      <td>1.889605</td>\n",
       "      <td>-1.273761</td>\n",
       "      <td>-1.006278</td>\n",
       "      <td>1.873001</td>\n",
       "      <td>0.477862</td>\n",
       "      <td>Good</td>\n",
       "    </tr>\n",
       "    <tr>\n",
       "      <th>4</th>\n",
       "      <td>0.651825</td>\n",
       "      <td>1.319199</td>\n",
       "      <td>-0.022459</td>\n",
       "      <td>-1.209709</td>\n",
       "      <td>-1.430692</td>\n",
       "      <td>1.078345</td>\n",
       "      <td>2.812442</td>\n",
       "      <td>Good</td>\n",
       "    </tr>\n",
       "  </tbody>\n",
       "</table>\n",
       "</div>"
      ],
      "text/plain": [
       "       Size    Weight  Sweetness  Softness  HarvestTime  Ripeness   Acidity  \\\n",
       "0 -1.924968  0.468078   3.077832 -1.472177     0.294799  2.435570  0.271290   \n",
       "1 -2.409751  0.486870   0.346921 -2.495099    -0.892213  2.067549  0.307325   \n",
       "2 -0.357607  1.483176   1.568452 -2.645145    -0.647267  3.090643  1.427322   \n",
       "3 -0.868524  1.566201   1.889605 -1.273761    -1.006278  1.873001  0.477862   \n",
       "4  0.651825  1.319199  -0.022459 -1.209709    -1.430692  1.078345  2.812442   \n",
       "\n",
       "  Quality  \n",
       "0    Good  \n",
       "1    Good  \n",
       "2    Good  \n",
       "3    Good  \n",
       "4    Good  "
      ]
     },
     "execution_count": 124,
     "metadata": {},
     "output_type": "execute_result"
    }
   ],
   "source": [
    "train_data.head()"
   ]
  },
  {
   "cell_type": "code",
   "execution_count": 125,
   "id": "d8357448-d2f1-40f2-9b5f-8c17f707d0a2",
   "metadata": {},
   "outputs": [
    {
     "data": {
      "text/html": [
       "<div>\n",
       "<style scoped>\n",
       "    .dataframe tbody tr th:only-of-type {\n",
       "        vertical-align: middle;\n",
       "    }\n",
       "\n",
       "    .dataframe tbody tr th {\n",
       "        vertical-align: top;\n",
       "    }\n",
       "\n",
       "    .dataframe thead th {\n",
       "        text-align: right;\n",
       "    }\n",
       "</style>\n",
       "<table border=\"1\" class=\"dataframe\">\n",
       "  <thead>\n",
       "    <tr style=\"text-align: right;\">\n",
       "      <th></th>\n",
       "      <th>Size</th>\n",
       "      <th>Weight</th>\n",
       "      <th>Sweetness</th>\n",
       "      <th>Softness</th>\n",
       "      <th>HarvestTime</th>\n",
       "      <th>Ripeness</th>\n",
       "      <th>Acidity</th>\n",
       "    </tr>\n",
       "  </thead>\n",
       "  <tbody>\n",
       "    <tr>\n",
       "      <th>count</th>\n",
       "      <td>8000.000000</td>\n",
       "      <td>8000.000000</td>\n",
       "      <td>8000.000000</td>\n",
       "      <td>8000.000000</td>\n",
       "      <td>8000.000000</td>\n",
       "      <td>8000.000000</td>\n",
       "      <td>8000.000000</td>\n",
       "    </tr>\n",
       "    <tr>\n",
       "      <th>mean</th>\n",
       "      <td>-0.747802</td>\n",
       "      <td>-0.761019</td>\n",
       "      <td>-0.770224</td>\n",
       "      <td>-0.014441</td>\n",
       "      <td>-0.751288</td>\n",
       "      <td>0.781098</td>\n",
       "      <td>0.008725</td>\n",
       "    </tr>\n",
       "    <tr>\n",
       "      <th>std</th>\n",
       "      <td>2.136023</td>\n",
       "      <td>2.015934</td>\n",
       "      <td>1.948455</td>\n",
       "      <td>2.065216</td>\n",
       "      <td>1.996661</td>\n",
       "      <td>2.114289</td>\n",
       "      <td>2.293467</td>\n",
       "    </tr>\n",
       "    <tr>\n",
       "      <th>min</th>\n",
       "      <td>-7.998074</td>\n",
       "      <td>-8.283002</td>\n",
       "      <td>-6.434022</td>\n",
       "      <td>-6.959320</td>\n",
       "      <td>-7.570008</td>\n",
       "      <td>-7.423155</td>\n",
       "      <td>-8.226977</td>\n",
       "    </tr>\n",
       "    <tr>\n",
       "      <th>25%</th>\n",
       "      <td>-2.277651</td>\n",
       "      <td>-2.223574</td>\n",
       "      <td>-2.107329</td>\n",
       "      <td>-1.590458</td>\n",
       "      <td>-2.120659</td>\n",
       "      <td>-0.574226</td>\n",
       "      <td>-1.629450</td>\n",
       "    </tr>\n",
       "    <tr>\n",
       "      <th>50%</th>\n",
       "      <td>-0.897514</td>\n",
       "      <td>-0.868659</td>\n",
       "      <td>-1.020673</td>\n",
       "      <td>0.202644</td>\n",
       "      <td>-0.934192</td>\n",
       "      <td>0.964952</td>\n",
       "      <td>0.098735</td>\n",
       "    </tr>\n",
       "    <tr>\n",
       "      <th>75%</th>\n",
       "      <td>0.654216</td>\n",
       "      <td>0.775491</td>\n",
       "      <td>0.311048</td>\n",
       "      <td>1.547120</td>\n",
       "      <td>0.507326</td>\n",
       "      <td>2.261650</td>\n",
       "      <td>1.682063</td>\n",
       "    </tr>\n",
       "    <tr>\n",
       "      <th>max</th>\n",
       "      <td>7.970800</td>\n",
       "      <td>5.679692</td>\n",
       "      <td>7.539374</td>\n",
       "      <td>8.241555</td>\n",
       "      <td>6.293280</td>\n",
       "      <td>7.249034</td>\n",
       "      <td>7.411633</td>\n",
       "    </tr>\n",
       "  </tbody>\n",
       "</table>\n",
       "</div>"
      ],
      "text/plain": [
       "              Size       Weight    Sweetness     Softness  HarvestTime  \\\n",
       "count  8000.000000  8000.000000  8000.000000  8000.000000  8000.000000   \n",
       "mean     -0.747802    -0.761019    -0.770224    -0.014441    -0.751288   \n",
       "std       2.136023     2.015934     1.948455     2.065216     1.996661   \n",
       "min      -7.998074    -8.283002    -6.434022    -6.959320    -7.570008   \n",
       "25%      -2.277651    -2.223574    -2.107329    -1.590458    -2.120659   \n",
       "50%      -0.897514    -0.868659    -1.020673     0.202644    -0.934192   \n",
       "75%       0.654216     0.775491     0.311048     1.547120     0.507326   \n",
       "max       7.970800     5.679692     7.539374     8.241555     6.293280   \n",
       "\n",
       "          Ripeness      Acidity  \n",
       "count  8000.000000  8000.000000  \n",
       "mean      0.781098     0.008725  \n",
       "std       2.114289     2.293467  \n",
       "min      -7.423155    -8.226977  \n",
       "25%      -0.574226    -1.629450  \n",
       "50%       0.964952     0.098735  \n",
       "75%       2.261650     1.682063  \n",
       "max       7.249034     7.411633  "
      ]
     },
     "execution_count": 125,
     "metadata": {},
     "output_type": "execute_result"
    }
   ],
   "source": [
    "train_data.describe()"
   ]
  },
  {
   "cell_type": "code",
   "execution_count": 126,
   "id": "33f06d6f-0d5a-422b-b25c-68a7744ecec9",
   "metadata": {},
   "outputs": [
    {
     "data": {
      "text/html": [
       "<div>\n",
       "<style scoped>\n",
       "    .dataframe tbody tr th:only-of-type {\n",
       "        vertical-align: middle;\n",
       "    }\n",
       "\n",
       "    .dataframe tbody tr th {\n",
       "        vertical-align: top;\n",
       "    }\n",
       "\n",
       "    .dataframe thead th {\n",
       "        text-align: right;\n",
       "    }\n",
       "</style>\n",
       "<table border=\"1\" class=\"dataframe\">\n",
       "  <thead>\n",
       "    <tr style=\"text-align: right;\">\n",
       "      <th></th>\n",
       "      <th>Size</th>\n",
       "      <th>Weight</th>\n",
       "      <th>Sweetness</th>\n",
       "      <th>Softness</th>\n",
       "      <th>HarvestTime</th>\n",
       "      <th>Ripeness</th>\n",
       "      <th>Acidity</th>\n",
       "      <th>Quality</th>\n",
       "    </tr>\n",
       "  </thead>\n",
       "  <tbody>\n",
       "    <tr>\n",
       "      <th>7995</th>\n",
       "      <td>-6.414403</td>\n",
       "      <td>0.723565</td>\n",
       "      <td>1.134953</td>\n",
       "      <td>2.952763</td>\n",
       "      <td>0.297928</td>\n",
       "      <td>-0.156946</td>\n",
       "      <td>2.398091</td>\n",
       "      <td>Bad</td>\n",
       "    </tr>\n",
       "    <tr>\n",
       "      <th>7996</th>\n",
       "      <td>0.851143</td>\n",
       "      <td>-2.217875</td>\n",
       "      <td>-2.812175</td>\n",
       "      <td>0.489249</td>\n",
       "      <td>-1.323410</td>\n",
       "      <td>-2.316883</td>\n",
       "      <td>2.113136</td>\n",
       "      <td>Bad</td>\n",
       "    </tr>\n",
       "    <tr>\n",
       "      <th>7997</th>\n",
       "      <td>1.422722</td>\n",
       "      <td>-1.907665</td>\n",
       "      <td>-2.532364</td>\n",
       "      <td>0.964976</td>\n",
       "      <td>-0.562375</td>\n",
       "      <td>-1.834765</td>\n",
       "      <td>0.697361</td>\n",
       "      <td>Bad</td>\n",
       "    </tr>\n",
       "    <tr>\n",
       "      <th>7998</th>\n",
       "      <td>-2.131904</td>\n",
       "      <td>-2.742600</td>\n",
       "      <td>-1.008029</td>\n",
       "      <td>2.126946</td>\n",
       "      <td>-0.802632</td>\n",
       "      <td>-3.580266</td>\n",
       "      <td>0.423569</td>\n",
       "      <td>Bad</td>\n",
       "    </tr>\n",
       "    <tr>\n",
       "      <th>7999</th>\n",
       "      <td>-2.660879</td>\n",
       "      <td>-2.044666</td>\n",
       "      <td>0.159026</td>\n",
       "      <td>1.499706</td>\n",
       "      <td>-1.581856</td>\n",
       "      <td>-1.605859</td>\n",
       "      <td>1.435644</td>\n",
       "      <td>Bad</td>\n",
       "    </tr>\n",
       "  </tbody>\n",
       "</table>\n",
       "</div>"
      ],
      "text/plain": [
       "          Size    Weight  Sweetness  Softness  HarvestTime  Ripeness  \\\n",
       "7995 -6.414403  0.723565   1.134953  2.952763     0.297928 -0.156946   \n",
       "7996  0.851143 -2.217875  -2.812175  0.489249    -1.323410 -2.316883   \n",
       "7997  1.422722 -1.907665  -2.532364  0.964976    -0.562375 -1.834765   \n",
       "7998 -2.131904 -2.742600  -1.008029  2.126946    -0.802632 -3.580266   \n",
       "7999 -2.660879 -2.044666   0.159026  1.499706    -1.581856 -1.605859   \n",
       "\n",
       "       Acidity Quality  \n",
       "7995  2.398091     Bad  \n",
       "7996  2.113136     Bad  \n",
       "7997  0.697361     Bad  \n",
       "7998  0.423569     Bad  \n",
       "7999  1.435644     Bad  "
      ]
     },
     "execution_count": 126,
     "metadata": {},
     "output_type": "execute_result"
    }
   ],
   "source": [
    "train_data.tail()"
   ]
  },
  {
   "cell_type": "code",
   "execution_count": 127,
   "id": "9765636d-7531-4619-9363-44ce03ecefba",
   "metadata": {},
   "outputs": [
    {
     "data": {
      "text/plain": [
       "Size           0\n",
       "Weight         0\n",
       "Sweetness      0\n",
       "Softness       0\n",
       "HarvestTime    0\n",
       "Ripeness       0\n",
       "Acidity        0\n",
       "Quality        0\n",
       "dtype: int64"
      ]
     },
     "execution_count": 127,
     "metadata": {},
     "output_type": "execute_result"
    }
   ],
   "source": [
    "train_data.isnull().sum()"
   ]
  },
  {
   "cell_type": "code",
   "execution_count": 128,
   "id": "71cb8c89-f76b-48a5-8802-8eb503ea3644",
   "metadata": {},
   "outputs": [
    {
     "data": {
      "image/png": "[encoded data removed]",
      "text/plain": [
       "<Figure size 640x480 with 1 Axes>"
      ]
     },
     "metadata": {},
     "output_type": "display_data"
    }
   ],
   "source": [
    "plt.scatter(train_data['Size'],train_data['Ripeness'],color='blue',marker='+')\n",
    "plt.title('Scatter plot')\n",
    "plt.xlabel('x')\n",
    "plt.ylabel('y')\n",
    "plt.show()"
   ]
  },
  {
   "cell_type": "code",
   "execution_count": 129,
   "id": "e8c93a58-f546-4774-b6d5-465a3120ebb0",
   "metadata": {},
   "outputs": [
    {
     "data": {
      "image/png": "[encoded data removed]",
      "text/plain": [
       "<Figure size 640x480 with 1 Axes>"
      ]
     },
     "metadata": {},
     "output_type": "display_data"
    }
   ],
   "source": [
    "sns.countplot(x='Quality',data=train_data)\n",
    "plt.show()"
   ]
  },
  {
   "cell_type": "code",
   "execution_count": 130,
   "id": "97d626ce-8da7-4a35-83f0-5a8d8fbe1ed9",
   "metadata": {},
   "outputs": [
    {
     "data": {
      "image/png": "[encoded data removed]",
      "text/plain": [
       "<Figure size 800x600 with 1 Axes>"
      ]
     },
     "metadata": {},
     "output_type": "display_data"
    }
   ],
   "source": [
    "plt.figure(figsize=(8,6))\n",
    "sns.heatmap(train_data.isnull(), cbar = False, cmap='binary_r')\n",
    "plt.show()"
   ]
  },
  {
   "cell_type": "code",
   "execution_count": 131,
   "id": "eb23cc08-662d-49e7-9208-0f542de4b6ee",
   "metadata": {},
   "outputs": [
    {
     "data": {
      "image/png": "[encoded data removed]",
      "text/plain": [
       "<Figure size 640x480 with 1 Axes>"
      ]
     },
     "metadata": {},
     "output_type": "display_data"
    }
   ],
   "source": [
    "plt.boxplot(train_data[\"Size\"])\n",
    "plt.title(\"Box plot\")\n",
    "plt.show()"
   ]
  },
  {
   "cell_type": "code",
   "execution_count": 132,
   "id": "148e02d8-2036-459a-b707-66804e6d654c",
   "metadata": {},
   "outputs": [
    {
     "name": "stdout",
     "output_type": "stream",
     "text": [
      "There are 3 outliers.\n",
      "There are 36 outliers.\n",
      "There are 178 outliers.\n",
      "There are 58 outliers.\n",
      "There are 17 outliers.\n"
     ]
    }
   ],
   "source": [
    "for column_name in ['Weight', 'Size', 'Sweetness', 'Ripeness', 'Acidity']:\n",
    "# Assuming data is your DataFrame and 'column_name' is the column for which you want to check outliers\n",
    "    Q1 = train_data[column_name].quantile(0.25)\n",
    "    Q3 =  train_data[column_name].quantile(0.75)\n",
    "    IQR = Q3 - Q1\n",
    "\n",
    "    # Define the boundary for outliers\n",
    "    lower_bound = Q1 - 1.5 * IQR\n",
    "    upper_bound = Q3 + 1.5 * IQR\n",
    "\n",
    "    # Get the number of outliers\n",
    "    outliers =  train_data[( train_data[column_name] < lower_bound) |\n",
    "                    (train_data[column_name] > upper_bound)]\n",
    "    num_outliers = outliers.shape[0]\n",
    "\n",
    "    print(f'There are {num_outliers} outliers.')\n",
    "    train_data[f'Adjusted_{column_name}'] = np.where((train_data[column_name] < lower_bound) | (\n",
    "    train_data[column_name] > upper_bound), np.nan, train_data[column_name])\n",
    "\n",
    "   # Calculate the mean of the non-outlier values\n",
    "    mean = train_data[f'Adjusted_{column_name}'].mean()\n",
    "\n",
    "   # Replace the NaNs in the 'Adjusted' column with the mean\n",
    "    train_data[f'Adjusted_{column_name}'].fillna(mean, inplace=True)\n",
    "    train_data = train_data.drop(columns=column_name, axis = 1)"
   ]
  },
  {
   "cell_type": "code",
   "execution_count": null,
   "id": "ad3c847c-993c-48e2-8355-89f73a1845c5",
   "metadata": {},
   "outputs": [],
   "source": []
  },
  {
   "cell_type": "code",
   "execution_count": null,
   "id": "ae8d9b35-f8fb-4a10-a57d-914dbc0ead85",
   "metadata": {},
   "outputs": [],
   "source": []
  },
  {
   "cell_type": "code",
   "execution_count": 133,
   "id": "e2016200-6aa4-4e82-84a4-577bfcf46591",
   "metadata": {},
   "outputs": [
    {
     "data": {
      "text/html": [
       "<div>\n",
       "<style scoped>\n",
       "    .dataframe tbody tr th:only-of-type {\n",
       "        vertical-align: middle;\n",
       "    }\n",
       "\n",
       "    .dataframe tbody tr th {\n",
       "        vertical-align: top;\n",
       "    }\n",
       "\n",
       "    .dataframe thead th {\n",
       "        text-align: right;\n",
       "    }\n",
       "</style>\n",
       "<table border=\"1\" class=\"dataframe\">\n",
       "  <thead>\n",
       "    <tr style=\"text-align: right;\">\n",
       "      <th></th>\n",
       "      <th>Softness</th>\n",
       "      <th>HarvestTime</th>\n",
       "      <th>Quality</th>\n",
       "      <th>Adjusted_Weight</th>\n",
       "      <th>Adjusted_Size</th>\n",
       "      <th>Adjusted_Sweetness</th>\n",
       "      <th>Adjusted_Ripeness</th>\n",
       "      <th>Adjusted_Acidity</th>\n",
       "    </tr>\n",
       "  </thead>\n",
       "  <tbody>\n",
       "    <tr>\n",
       "      <th>7995</th>\n",
       "      <td>2.952763</td>\n",
       "      <td>0.297928</td>\n",
       "      <td>0</td>\n",
       "      <td>0.723565</td>\n",
       "      <td>-6.414403</td>\n",
       "      <td>1.134953</td>\n",
       "      <td>-0.156946</td>\n",
       "      <td>2.398091</td>\n",
       "    </tr>\n",
       "    <tr>\n",
       "      <th>7996</th>\n",
       "      <td>0.489249</td>\n",
       "      <td>-1.323410</td>\n",
       "      <td>0</td>\n",
       "      <td>-2.217875</td>\n",
       "      <td>0.851143</td>\n",
       "      <td>-2.812175</td>\n",
       "      <td>-2.316883</td>\n",
       "      <td>2.113136</td>\n",
       "    </tr>\n",
       "    <tr>\n",
       "      <th>7997</th>\n",
       "      <td>0.964976</td>\n",
       "      <td>-0.562375</td>\n",
       "      <td>0</td>\n",
       "      <td>-1.907665</td>\n",
       "      <td>1.422722</td>\n",
       "      <td>-2.532364</td>\n",
       "      <td>-1.834765</td>\n",
       "      <td>0.697361</td>\n",
       "    </tr>\n",
       "    <tr>\n",
       "      <th>7998</th>\n",
       "      <td>2.126946</td>\n",
       "      <td>-0.802632</td>\n",
       "      <td>0</td>\n",
       "      <td>-2.742600</td>\n",
       "      <td>-2.131904</td>\n",
       "      <td>-1.008029</td>\n",
       "      <td>-3.580266</td>\n",
       "      <td>0.423569</td>\n",
       "    </tr>\n",
       "    <tr>\n",
       "      <th>7999</th>\n",
       "      <td>1.499706</td>\n",
       "      <td>-1.581856</td>\n",
       "      <td>0</td>\n",
       "      <td>-2.044666</td>\n",
       "      <td>-2.660879</td>\n",
       "      <td>0.159026</td>\n",
       "      <td>-1.605859</td>\n",
       "      <td>1.435644</td>\n",
       "    </tr>\n",
       "  </tbody>\n",
       "</table>\n",
       "</div>"
      ],
      "text/plain": [
       "      Softness  HarvestTime  Quality  Adjusted_Weight  Adjusted_Size  \\\n",
       "7995  2.952763     0.297928        0         0.723565      -6.414403   \n",
       "7996  0.489249    -1.323410        0        -2.217875       0.851143   \n",
       "7997  0.964976    -0.562375        0        -1.907665       1.422722   \n",
       "7998  2.126946    -0.802632        0        -2.742600      -2.131904   \n",
       "7999  1.499706    -1.581856        0        -2.044666      -2.660879   \n",
       "\n",
       "      Adjusted_Sweetness  Adjusted_Ripeness  Adjusted_Acidity  \n",
       "7995            1.134953          -0.156946          2.398091  \n",
       "7996           -2.812175          -2.316883          2.113136  \n",
       "7997           -2.532364          -1.834765          0.697361  \n",
       "7998           -1.008029          -3.580266          0.423569  \n",
       "7999            0.159026          -1.605859          1.435644  "
      ]
     },
     "execution_count": 133,
     "metadata": {},
     "output_type": "execute_result"
    }
   ],
   "source": [
    "train_data.replace({'Quality':{'Bad':0,'Good':1}},inplace=True)\n",
    "train_data.tail()"
   ]
  },
  {
   "cell_type": "code",
   "execution_count": 134,
   "id": "ef5a1dd8-f305-40a6-8407-92a3b1db69cc",
   "metadata": {},
   "outputs": [],
   "source": [
    "from sklearn.model_selection import train_test_split\n",
    "\n",
    "X_train, X_test, y_train, y_test = train_test_split(\n",
    "    train_data[feature], train_data[label], test_size=0.2, random_state=42)"
   ]
  },
  {
   "cell_type": "code",
   "execution_count": 135,
   "id": "c162ead4-b7eb-4669-a19a-37450d518d1a",
   "metadata": {},
   "outputs": [
    {
     "name": "stdout",
     "output_type": "stream",
     "text": [
      "0       1\n",
      "1       1\n",
      "2       1\n",
      "3       1\n",
      "4       1\n",
      "       ..\n",
      "7995    0\n",
      "7996    0\n",
      "7997    0\n",
      "7998    0\n",
      "7999    0\n",
      "Name: Quality, Length: 8000, dtype: int64\n"
     ]
    }
   ],
   "source": [
    "y=train_data[\"Quality\"]\n",
    "print(y)"
   ]
  },
  {
   "cell_type": "code",
   "execution_count": 136,
   "id": "26362bf8-f558-488f-96d2-bd8faaa33150",
   "metadata": {},
   "outputs": [],
   "source": [
    "import pickle"
   ]
  },
  {
   "cell_type": "code",
   "execution_count": null,
   "id": "6eda0c88-69a1-4144-a6b2-3595306a4ec6",
   "metadata": {},
   "outputs": [],
   "source": []
  },
  {
   "cell_type": "code",
   "execution_count": null,
   "id": "213bbdb4-ec28-45ab-b7d2-bd813105cbb2",
   "metadata": {},
   "outputs": [],
   "source": []
  },
  {
   "cell_type": "code",
   "execution_count": null,
   "id": "3715dee7-ea56-40f2-9f4a-06c092821365",
   "metadata": {},
   "outputs": [],
   "source": []
  },
  {
   "cell_type": "code",
   "execution_count": null,
   "id": "78a2a2a8-3157-4171-b303-2a05e7c01111",
   "metadata": {},
   "outputs": [],
   "source": []
  }
 ],
 "metadata": {
  "kernelspec": {
   "display_name": "Python 3 (ipykernel)",
   "language": "python",
   "name": "python3"
  },
  "language_info": {
   "codemirror_mode": {
    "name": "ipython",
    "version": 3
   },
   "file_extension": ".py",
   "mimetype": "text/x-python",
   "name": "python",
   "nbconvert_exporter": "python",
   "pygments_lexer": "ipython3",
   "version": "3.11.5"
  }
 },
 "nbformat": 4,
 "nbformat_minor": 5
}
